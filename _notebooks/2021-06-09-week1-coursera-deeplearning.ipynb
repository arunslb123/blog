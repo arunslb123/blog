{
 "cells": [
  {
   "cell_type": "markdown",
   "metadata": {},
   "source": [
    "# Coursera Neural Networks week 1\n",
    "> deeplearning.ai course from Andrew Ng.\n",
    "\n",
    "- toc: true\n",
    "- badges: true\n",
    "- comments: true\n",
    "- categories: [deeplearning]"
   ]
  },
  {
   "cell_type": "markdown",
   "metadata": {},
   "source": [
    "# Introduction to Deep Learning\n",
    "\n",
    "check"
   ]
  },
  {
   "attachments": {},
   "cell_type": "markdown",
   "metadata": {},
   "source": [
    "## What is a Neural Network:\n",
    "\n",
    "- In house price prediction problem, we can use RELU as an activation function because price can never be a negative value. \n",
    "- RELU - Rectified Linear Unit (It is rectifying the negative value)\n",
    "- In neural network, our job is to set the input and output, and the neural network will figure it out the usefulness of feature. We just densly connect every neuron\n",
    "\n",
    "\n",
    "## Supervised Learning with Neural Networks\n",
    "\n",
    "- Most economical value comes from supervised learning\n",
    "- Supervised learning means we know the input and output, and we use the output to compute the loss and train our model. \n"
   ]
  },
  {
   "cell_type": "code",
   "execution_count": null,
   "metadata": {},
   "outputs": [],
   "source": []
  }
 ],
 "metadata": {
  "kernelspec": {
   "display_name": "Python 3",
   "language": "python",
   "name": "python3"
  },
  "language_info": {
   "codemirror_mode": {
    "name": "ipython",
    "version": 3
   },
   "file_extension": ".py",
   "mimetype": "text/x-python",
   "name": "python",
   "nbconvert_exporter": "python",
   "pygments_lexer": "ipython3",
   "version": "3.8.5"
  }
 },
 "nbformat": 4,
 "nbformat_minor": 4
}
